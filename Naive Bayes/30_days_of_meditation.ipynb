{
 "cells": [
  {
   "cell_type": "markdown",
   "id": "11c86153",
   "metadata": {},
   "source": [
    "# Joe Zoll\n",
    "# 30 Days of Meditation - Naive Bayes Classifier (Multinomial)\n",
    "## Intention: Classify meditation instances as > or < 20 minutes based on the frequency of certain types of meditation (i.e. Mindfulness of breathing, Metta, Body scanning, etc.)"
   ]
  },
  {
   "cell_type": "code",
   "execution_count": 5,
   "id": "d895a3fe",
   "metadata": {},
   "outputs": [],
   "source": [
    "import pandas as pd"
   ]
  },
  {
   "cell_type": "code",
   "execution_count": 6,
   "id": "16ac14c0",
   "metadata": {},
   "outputs": [],
   "source": [
    "df = pd.read_csv('data/meditation-sit-log.csv')\n",
    "meditations = df.copy()"
   ]
  },
  {
   "cell_type": "code",
   "execution_count": 7,
   "id": "f1516971",
   "metadata": {},
   "outputs": [
    {
     "data": {
      "text/html": [
       "<div>\n",
       "<style scoped>\n",
       "    .dataframe tbody tr th:only-of-type {\n",
       "        vertical-align: middle;\n",
       "    }\n",
       "\n",
       "    .dataframe tbody tr th {\n",
       "        vertical-align: top;\n",
       "    }\n",
       "\n",
       "    .dataframe thead th {\n",
       "        text-align: right;\n",
       "    }\n",
       "</style>\n",
       "<table border=\"1\" class=\"dataframe\">\n",
       "  <thead>\n",
       "    <tr style=\"text-align: right;\">\n",
       "      <th></th>\n",
       "      <th>Name</th>\n",
       "      <th>Date &amp; Time ⏰</th>\n",
       "      <th>Tags</th>\n",
       "      <th>Length (Minutes)</th>\n",
       "      <th>Guided</th>\n",
       "    </tr>\n",
       "  </thead>\n",
       "  <tbody>\n",
       "    <tr>\n",
       "      <th>0</th>\n",
       "      <td>Metta Return 1/7</td>\n",
       "      <td>October 4, 2022 11:02 AM</td>\n",
       "      <td>Body / Grounding Awareness, Metta</td>\n",
       "      <td>40.0</td>\n",
       "      <td>NaN</td>\n",
       "    </tr>\n",
       "    <tr>\n",
       "      <th>1</th>\n",
       "      <td>Quick in car</td>\n",
       "      <td>October 3, 2022 12:13 PM</td>\n",
       "      <td>Body / Grounding Awareness, Mindfulness of Bre...</td>\n",
       "      <td>5.0</td>\n",
       "      <td>NaN</td>\n",
       "    </tr>\n",
       "    <tr>\n",
       "      <th>2</th>\n",
       "      <td>What do I need to change for this semester?</td>\n",
       "      <td>October 2, 2022 9:47 PM</td>\n",
       "      <td>Contemplation</td>\n",
       "      <td>30.0</td>\n",
       "      <td>NaN</td>\n",
       "    </tr>\n",
       "    <tr>\n",
       "      <th>3</th>\n",
       "      <td>Cloudy</td>\n",
       "      <td>October 2, 2022 3:44 PM</td>\n",
       "      <td>NaN</td>\n",
       "      <td>11.0</td>\n",
       "      <td>NaN</td>\n",
       "    </tr>\n",
       "    <tr>\n",
       "      <th>4</th>\n",
       "      <td>Calm cleaning</td>\n",
       "      <td>October 1, 2022 2:17 PM</td>\n",
       "      <td>Body / Grounding Awareness</td>\n",
       "      <td>17.0</td>\n",
       "      <td>NaN</td>\n",
       "    </tr>\n",
       "    <tr>\n",
       "      <th>...</th>\n",
       "      <td>...</td>\n",
       "      <td>...</td>\n",
       "      <td>...</td>\n",
       "      <td>...</td>\n",
       "      <td>...</td>\n",
       "    </tr>\n",
       "    <tr>\n",
       "      <th>115</th>\n",
       "      <td>First SP Metta Session | Opening up... somewhe...</td>\n",
       "      <td>July 8, 2021 2:32 PM</td>\n",
       "      <td>MIDL 03/52, MIDL Metta Loved One</td>\n",
       "      <td>47.0</td>\n",
       "      <td>NaN</td>\n",
       "    </tr>\n",
       "    <tr>\n",
       "      <th>116</th>\n",
       "      <td>Sitting With Pain</td>\n",
       "      <td>July 7, 2021 3:58 PM</td>\n",
       "      <td>Doing Nothing, Stillness</td>\n",
       "      <td>51.0</td>\n",
       "      <td>NaN</td>\n",
       "    </tr>\n",
       "    <tr>\n",
       "      <th>117</th>\n",
       "      <td>More Courageous Meditation. Not mine</td>\n",
       "      <td>July 1, 2021 3:34 PM</td>\n",
       "      <td>MIDL 03/52, MIDL Forgiveness</td>\n",
       "      <td>45.0</td>\n",
       "      <td>NaN</td>\n",
       "    </tr>\n",
       "    <tr>\n",
       "      <th>118</th>\n",
       "      <td>The Bravest Meditation Of My Life</td>\n",
       "      <td>June 29, 2021 3:04 PM</td>\n",
       "      <td>MIDL 03/52, MIDL Forgiveness</td>\n",
       "      <td>65.0</td>\n",
       "      <td>NaN</td>\n",
       "    </tr>\n",
       "    <tr>\n",
       "      <th>119</th>\n",
       "      <td>Short retraining and MIDL forgiveness</td>\n",
       "      <td>June 29, 2021 3:02 PM</td>\n",
       "      <td>MIDL 03/52</td>\n",
       "      <td>42.0</td>\n",
       "      <td>NaN</td>\n",
       "    </tr>\n",
       "  </tbody>\n",
       "</table>\n",
       "<p>120 rows × 5 columns</p>\n",
       "</div>"
      ],
      "text/plain": [
       "                                                  Name  \\\n",
       "0                                     Metta Return 1/7   \n",
       "1                                         Quick in car   \n",
       "2          What do I need to change for this semester?   \n",
       "3                                               Cloudy   \n",
       "4                                        Calm cleaning   \n",
       "..                                                 ...   \n",
       "115  First SP Metta Session | Opening up... somewhe...   \n",
       "116                                  Sitting With Pain   \n",
       "117               More Courageous Meditation. Not mine   \n",
       "118                  The Bravest Meditation Of My Life   \n",
       "119              Short retraining and MIDL forgiveness   \n",
       "\n",
       "                Date & Time ⏰  \\\n",
       "0    October 4, 2022 11:02 AM   \n",
       "1    October 3, 2022 12:13 PM   \n",
       "2     October 2, 2022 9:47 PM   \n",
       "3     October 2, 2022 3:44 PM   \n",
       "4     October 1, 2022 2:17 PM   \n",
       "..                        ...   \n",
       "115      July 8, 2021 2:32 PM   \n",
       "116      July 7, 2021 3:58 PM   \n",
       "117      July 1, 2021 3:34 PM   \n",
       "118     June 29, 2021 3:04 PM   \n",
       "119     June 29, 2021 3:02 PM   \n",
       "\n",
       "                                                  Tags  Length (Minutes)  \\\n",
       "0                    Body / Grounding Awareness, Metta              40.0   \n",
       "1    Body / Grounding Awareness, Mindfulness of Bre...               5.0   \n",
       "2                                        Contemplation              30.0   \n",
       "3                                                  NaN              11.0   \n",
       "4                           Body / Grounding Awareness              17.0   \n",
       "..                                                 ...               ...   \n",
       "115                   MIDL 03/52, MIDL Metta Loved One              47.0   \n",
       "116                           Doing Nothing, Stillness              51.0   \n",
       "117                       MIDL 03/52, MIDL Forgiveness              45.0   \n",
       "118                       MIDL 03/52, MIDL Forgiveness              65.0   \n",
       "119                                         MIDL 03/52              42.0   \n",
       "\n",
       "    Guided  \n",
       "0      NaN  \n",
       "1      NaN  \n",
       "2      NaN  \n",
       "3      NaN  \n",
       "4      NaN  \n",
       "..     ...  \n",
       "115    NaN  \n",
       "116    NaN  \n",
       "117    NaN  \n",
       "118    NaN  \n",
       "119    NaN  \n",
       "\n",
       "[120 rows x 5 columns]"
      ]
     },
     "execution_count": 7,
     "metadata": {},
     "output_type": "execute_result"
    }
   ],
   "source": [
    "df"
   ]
  },
  {
   "cell_type": "markdown",
   "id": "620931f5",
   "metadata": {},
   "source": [
    "# Data Cleaning\n",
    "- Only take meditation sits from September 6, 2022 => October 6, 2022\n",
    "- remove Date & Time\n",
    "- remove Name\n",
    "- remove Guided\n",
    "\n",
    "- Rename Length (Minutes) => >20 minutes and set values to boolean\n",
    "- Rename Tags => Practice\n",
    "- fill nan values"
   ]
  },
  {
   "cell_type": "code",
   "execution_count": 8,
   "id": "015598c8",
   "metadata": {},
   "outputs": [],
   "source": [
    "meditations = meditations.loc[:22]"
   ]
  },
  {
   "cell_type": "code",
   "execution_count": 9,
   "id": "17929b44",
   "metadata": {},
   "outputs": [],
   "source": [
    "meditations = meditations.drop(['Name', 'Date & Time ⏰', 'Guided'], axis=1)"
   ]
  },
  {
   "cell_type": "code",
   "execution_count": 10,
   "id": "563fc168",
   "metadata": {
    "scrolled": true
   },
   "outputs": [],
   "source": [
    "meditations = meditations.rename(columns={'Length (Minutes)': '+20min'})"
   ]
  },
  {
   "cell_type": "code",
   "execution_count": 11,
   "id": "a40f0ab4",
   "metadata": {},
   "outputs": [],
   "source": [
    "meditations = meditations.rename(columns={'Tags': 'practice'})"
   ]
  },
  {
   "cell_type": "code",
   "execution_count": 12,
   "id": "f135d938",
   "metadata": {},
   "outputs": [],
   "source": [
    "meditations['+20min'] = meditations['+20min'] >= 20"
   ]
  },
  {
   "cell_type": "code",
   "execution_count": 13,
   "id": "fc5bcca7",
   "metadata": {
    "scrolled": true
   },
   "outputs": [
    {
     "data": {
      "text/html": [
       "<div>\n",
       "<style scoped>\n",
       "    .dataframe tbody tr th:only-of-type {\n",
       "        vertical-align: middle;\n",
       "    }\n",
       "\n",
       "    .dataframe tbody tr th {\n",
       "        vertical-align: top;\n",
       "    }\n",
       "\n",
       "    .dataframe thead th {\n",
       "        text-align: right;\n",
       "    }\n",
       "</style>\n",
       "<table border=\"1\" class=\"dataframe\">\n",
       "  <thead>\n",
       "    <tr style=\"text-align: right;\">\n",
       "      <th></th>\n",
       "      <th>practice</th>\n",
       "      <th>+20min</th>\n",
       "    </tr>\n",
       "  </thead>\n",
       "  <tbody>\n",
       "    <tr>\n",
       "      <th>0</th>\n",
       "      <td>Body / Grounding Awareness, Metta</td>\n",
       "      <td>True</td>\n",
       "    </tr>\n",
       "    <tr>\n",
       "      <th>1</th>\n",
       "      <td>Body / Grounding Awareness, Mindfulness of Bre...</td>\n",
       "      <td>False</td>\n",
       "    </tr>\n",
       "    <tr>\n",
       "      <th>2</th>\n",
       "      <td>Contemplation</td>\n",
       "      <td>True</td>\n",
       "    </tr>\n",
       "  </tbody>\n",
       "</table>\n",
       "</div>"
      ],
      "text/plain": [
       "                                            practice  +20min\n",
       "0                  Body / Grounding Awareness, Metta    True\n",
       "1  Body / Grounding Awareness, Mindfulness of Bre...   False\n",
       "2                                      Contemplation    True"
      ]
     },
     "execution_count": 13,
     "metadata": {},
     "output_type": "execute_result"
    }
   ],
   "source": [
    "meditations.head(3)"
   ]
  },
  {
   "cell_type": "markdown",
   "id": "4996a923",
   "metadata": {},
   "source": [
    "practice => dict of counts for all 6 meditation practices => mapped to columns in meditations df"
   ]
  },
  {
   "cell_type": "code",
   "execution_count": 14,
   "id": "378597b1",
   "metadata": {},
   "outputs": [],
   "source": [
    "def countPracticeTypes(practiceStr, count):\n",
    "    currPractices = practiceStr.split(',')\n",
    "    for practice in currPractices:\n",
    "        if practice in count:\n",
    "            count[practice] += 1\n",
    "        else:\n",
    "            count[practice] = 1\n",
    "    return count"
   ]
  },
  {
   "cell_type": "code",
   "execution_count": 15,
   "id": "3e14bb1b",
   "metadata": {},
   "outputs": [],
   "source": [
    "def cleanPracticeStr(practiceStr):\n",
    "    return practiceStr.split(',')[0]"
   ]
  },
  {
   "cell_type": "code",
   "execution_count": 16,
   "id": "85be604f",
   "metadata": {},
   "outputs": [],
   "source": [
    "meditations['practice'] = meditations['practice'].fillna(value='Body / Grounding Awareness')"
   ]
  },
  {
   "cell_type": "markdown",
   "id": "7245895d",
   "metadata": {},
   "source": [
    "# Frequencies => Features\n",
    "- Clean practice string values (limit to 1 type of practice per instance)\n",
    "- For each practice, count the frequencies of each time it appears in the dataset and make it's count into its own column"
   ]
  },
  {
   "cell_type": "code",
   "execution_count": 17,
   "id": "585cf090",
   "metadata": {
    "scrolled": true
   },
   "outputs": [
    {
     "data": {
      "text/plain": [
       "{'Body / Grounding Awareness',\n",
       " 'Contemplation',\n",
       " 'Doing Nothing',\n",
       " 'Metta',\n",
       " 'Mindfulness of Breathing',\n",
       " 'Mindfulness of Fingers Touching',\n",
       " 'Stillness'}"
      ]
     },
     "execution_count": 17,
     "metadata": {},
     "output_type": "execute_result"
    }
   ],
   "source": [
    "practices = set(meditations['practice'].apply(cleanPracticeStr).unique())\n",
    "practices.add('Metta')\n",
    "practices"
   ]
  },
  {
   "cell_type": "code",
   "execution_count": 18,
   "id": "8d4cfcd5",
   "metadata": {
    "scrolled": true
   },
   "outputs": [
    {
     "data": {
      "text/html": [
       "<div>\n",
       "<style scoped>\n",
       "    .dataframe tbody tr th:only-of-type {\n",
       "        vertical-align: middle;\n",
       "    }\n",
       "\n",
       "    .dataframe tbody tr th {\n",
       "        vertical-align: top;\n",
       "    }\n",
       "\n",
       "    .dataframe thead th {\n",
       "        text-align: right;\n",
       "    }\n",
       "</style>\n",
       "<table border=\"1\" class=\"dataframe\">\n",
       "  <thead>\n",
       "    <tr style=\"text-align: right;\">\n",
       "      <th></th>\n",
       "      <th>practice</th>\n",
       "      <th>+20min</th>\n",
       "      <th>Mindfulness of Breathing</th>\n",
       "      <th>Contemplation</th>\n",
       "      <th>Doing Nothing</th>\n",
       "      <th>Mindfulness of Fingers Touching</th>\n",
       "      <th>Stillness</th>\n",
       "      <th>Body / Grounding Awareness</th>\n",
       "      <th>Metta</th>\n",
       "    </tr>\n",
       "  </thead>\n",
       "  <tbody>\n",
       "    <tr>\n",
       "      <th>0</th>\n",
       "      <td>Body / Grounding Awareness, Metta</td>\n",
       "      <td>True</td>\n",
       "      <td>0</td>\n",
       "      <td>0</td>\n",
       "      <td>0</td>\n",
       "      <td>0</td>\n",
       "      <td>0</td>\n",
       "      <td>0</td>\n",
       "      <td>0</td>\n",
       "    </tr>\n",
       "  </tbody>\n",
       "</table>\n",
       "</div>"
      ],
      "text/plain": [
       "                            practice  +20min  Mindfulness of Breathing  \\\n",
       "0  Body / Grounding Awareness, Metta    True                         0   \n",
       "\n",
       "   Contemplation  Doing Nothing  Mindfulness of Fingers Touching  Stillness  \\\n",
       "0              0              0                                0          0   \n",
       "\n",
       "   Body / Grounding Awareness  Metta  \n",
       "0                           0      0  "
      ]
     },
     "execution_count": 18,
     "metadata": {},
     "output_type": "execute_result"
    }
   ],
   "source": [
    "# I want to add new columns to the DF, all with a value == 0\n",
    "meditations[list(practices)] = 0\n",
    "meditations.head(1)"
   ]
  },
  {
   "cell_type": "code",
   "execution_count": 19,
   "id": "98787b74",
   "metadata": {},
   "outputs": [
    {
     "name": "stderr",
     "output_type": "stream",
     "text": [
      "/var/folders/t4/3510z2w16w52w16nl154mg440000gn/T/ipykernel_98914/2736716018.py:11: SettingWithCopyWarning: \n",
      "A value is trying to be set on a copy of a slice from a DataFrame\n",
      "\n",
      "See the caveats in the documentation: https://pandas.pydata.org/pandas-docs/stable/user_guide/indexing.html#returning-a-view-versus-a-copy\n",
      "  meditations[p][index] += 1\n"
     ]
    }
   ],
   "source": [
    "# for each row\n",
    "#    split practiceStr\n",
    "#    for each str in split:\n",
    "#        increment corresponding column\n",
    "for index, row in meditations.iterrows():\n",
    "    practiceStr = row['practice']\n",
    "    currPractices = practiceStr.split(',')\n",
    "    for p in currPractices:\n",
    "        p = p.strip()\n",
    "        if p in practices:\n",
    "            meditations[p][index] += 1"
   ]
  },
  {
   "cell_type": "code",
   "execution_count": 20,
   "id": "4e33c9f3",
   "metadata": {},
   "outputs": [],
   "source": [
    "meditations.insert(len(meditations.columns)-1, '+20min', meditations.pop('+20min'))"
   ]
  },
  {
   "cell_type": "code",
   "execution_count": 21,
   "id": "5decc380",
   "metadata": {
    "scrolled": true
   },
   "outputs": [
    {
     "data": {
      "text/html": [
       "<div>\n",
       "<style scoped>\n",
       "    .dataframe tbody tr th:only-of-type {\n",
       "        vertical-align: middle;\n",
       "    }\n",
       "\n",
       "    .dataframe tbody tr th {\n",
       "        vertical-align: top;\n",
       "    }\n",
       "\n",
       "    .dataframe thead th {\n",
       "        text-align: right;\n",
       "    }\n",
       "</style>\n",
       "<table border=\"1\" class=\"dataframe\">\n",
       "  <thead>\n",
       "    <tr style=\"text-align: right;\">\n",
       "      <th></th>\n",
       "      <th>practice</th>\n",
       "      <th>Mindfulness of Breathing</th>\n",
       "      <th>Contemplation</th>\n",
       "      <th>Doing Nothing</th>\n",
       "      <th>Mindfulness of Fingers Touching</th>\n",
       "      <th>Stillness</th>\n",
       "      <th>Body / Grounding Awareness</th>\n",
       "      <th>Metta</th>\n",
       "      <th>+20min</th>\n",
       "    </tr>\n",
       "  </thead>\n",
       "  <tbody>\n",
       "    <tr>\n",
       "      <th>0</th>\n",
       "      <td>Body / Grounding Awareness, Metta</td>\n",
       "      <td>0</td>\n",
       "      <td>0</td>\n",
       "      <td>0</td>\n",
       "      <td>0</td>\n",
       "      <td>0</td>\n",
       "      <td>1</td>\n",
       "      <td>1</td>\n",
       "      <td>True</td>\n",
       "    </tr>\n",
       "    <tr>\n",
       "      <th>1</th>\n",
       "      <td>Body / Grounding Awareness, Mindfulness of Bre...</td>\n",
       "      <td>1</td>\n",
       "      <td>0</td>\n",
       "      <td>0</td>\n",
       "      <td>0</td>\n",
       "      <td>0</td>\n",
       "      <td>1</td>\n",
       "      <td>0</td>\n",
       "      <td>False</td>\n",
       "    </tr>\n",
       "    <tr>\n",
       "      <th>2</th>\n",
       "      <td>Contemplation</td>\n",
       "      <td>0</td>\n",
       "      <td>1</td>\n",
       "      <td>0</td>\n",
       "      <td>0</td>\n",
       "      <td>0</td>\n",
       "      <td>0</td>\n",
       "      <td>0</td>\n",
       "      <td>True</td>\n",
       "    </tr>\n",
       "    <tr>\n",
       "      <th>3</th>\n",
       "      <td>Body / Grounding Awareness</td>\n",
       "      <td>0</td>\n",
       "      <td>0</td>\n",
       "      <td>0</td>\n",
       "      <td>0</td>\n",
       "      <td>0</td>\n",
       "      <td>1</td>\n",
       "      <td>0</td>\n",
       "      <td>False</td>\n",
       "    </tr>\n",
       "    <tr>\n",
       "      <th>4</th>\n",
       "      <td>Body / Grounding Awareness</td>\n",
       "      <td>0</td>\n",
       "      <td>0</td>\n",
       "      <td>0</td>\n",
       "      <td>0</td>\n",
       "      <td>0</td>\n",
       "      <td>1</td>\n",
       "      <td>0</td>\n",
       "      <td>False</td>\n",
       "    </tr>\n",
       "    <tr>\n",
       "      <th>5</th>\n",
       "      <td>Body / Grounding Awareness</td>\n",
       "      <td>0</td>\n",
       "      <td>0</td>\n",
       "      <td>0</td>\n",
       "      <td>0</td>\n",
       "      <td>0</td>\n",
       "      <td>1</td>\n",
       "      <td>0</td>\n",
       "      <td>False</td>\n",
       "    </tr>\n",
       "    <tr>\n",
       "      <th>6</th>\n",
       "      <td>Mindfulness of Breathing</td>\n",
       "      <td>1</td>\n",
       "      <td>0</td>\n",
       "      <td>0</td>\n",
       "      <td>0</td>\n",
       "      <td>0</td>\n",
       "      <td>0</td>\n",
       "      <td>0</td>\n",
       "      <td>True</td>\n",
       "    </tr>\n",
       "  </tbody>\n",
       "</table>\n",
       "</div>"
      ],
      "text/plain": [
       "                                            practice  \\\n",
       "0                  Body / Grounding Awareness, Metta   \n",
       "1  Body / Grounding Awareness, Mindfulness of Bre...   \n",
       "2                                      Contemplation   \n",
       "3                         Body / Grounding Awareness   \n",
       "4                         Body / Grounding Awareness   \n",
       "5                         Body / Grounding Awareness   \n",
       "6                           Mindfulness of Breathing   \n",
       "\n",
       "   Mindfulness of Breathing  Contemplation  Doing Nothing  \\\n",
       "0                         0              0              0   \n",
       "1                         1              0              0   \n",
       "2                         0              1              0   \n",
       "3                         0              0              0   \n",
       "4                         0              0              0   \n",
       "5                         0              0              0   \n",
       "6                         1              0              0   \n",
       "\n",
       "   Mindfulness of Fingers Touching  Stillness  Body / Grounding Awareness  \\\n",
       "0                                0          0                           1   \n",
       "1                                0          0                           1   \n",
       "2                                0          0                           0   \n",
       "3                                0          0                           1   \n",
       "4                                0          0                           1   \n",
       "5                                0          0                           1   \n",
       "6                                0          0                           0   \n",
       "\n",
       "   Metta  +20min  \n",
       "0      1    True  \n",
       "1      0   False  \n",
       "2      0    True  \n",
       "3      0   False  \n",
       "4      0   False  \n",
       "5      0   False  \n",
       "6      0    True  "
      ]
     },
     "execution_count": 21,
     "metadata": {},
     "output_type": "execute_result"
    }
   ],
   "source": [
    "meditations.head(7)"
   ]
  },
  {
   "cell_type": "code",
   "execution_count": 22,
   "id": "a32343a4",
   "metadata": {
    "scrolled": true
   },
   "outputs": [],
   "source": [
    "meditations = meditations.drop(['practice'], axis=1)"
   ]
  },
  {
   "cell_type": "markdown",
   "id": "c01f9e4e",
   "metadata": {},
   "source": [
    "# So now that I have the frequency columns for every type of meditation IN every sit I have done for the past 30 days, I now can proceed with the Naive Bayes Classifier, constructing it, and then inputting some instance to check and see if it worked.\n",
    "\n",
    "# NEXT TIME, we do the math :D\n",
    "\n",
    "### Notes\n",
    "- This is not a great model for NB classifier, as there can never be a sit with a practice type that occurs 2 times\n",
    "- What is the best classifier for when features are True / False?"
   ]
  },
  {
   "cell_type": "markdown",
   "id": "e11b28a1",
   "metadata": {},
   "source": [
    "# Naive Bayes Classification"
   ]
  },
  {
   "cell_type": "markdown",
   "id": "99f34a04",
   "metadata": {},
   "source": [
    "- get conditional probabilities for T & F Class Value (2 sets for each value * 7 features => 14 probabilities)\n",
    "\n",
    "\n",
    "Question\n",
    "- How do we ask questions, use the answers to generate a new instance, and then put that new instance into the dataframe AND classify it as a long or short sit?"
   ]
  },
  {
   "cell_type": "markdown",
   "id": "ee0e216c",
   "metadata": {},
   "source": [
    "### Getting Training and Testing Sets"
   ]
  },
  {
   "cell_type": "code",
   "execution_count": 23,
   "id": "23f805fb",
   "metadata": {},
   "outputs": [],
   "source": [
    "from sklearn.model_selection import train_test_split"
   ]
  },
  {
   "cell_type": "code",
   "execution_count": 24,
   "id": "aa014508",
   "metadata": {},
   "outputs": [],
   "source": [
    "X, y = meditations.drop(['+20min'], axis=1), meditations['+20min']"
   ]
  },
  {
   "cell_type": "code",
   "execution_count": 25,
   "id": "2b00cc36",
   "metadata": {
    "scrolled": true
   },
   "outputs": [],
   "source": [
    "x_train, x_test, y_train, y_test = train_test_split(X, y, test_size=0.2)"
   ]
  },
  {
   "cell_type": "code",
   "execution_count": 26,
   "id": "73e0a736",
   "metadata": {},
   "outputs": [],
   "source": [
    "# init\n",
    "sample = {'Metta': 1,\n",
    " 'Mindfulness of Fingers Touching': 0,\n",
    " 'Body / Grounding Awareness': 1,\n",
    " 'Stillness': 0,\n",
    " 'Contemplation': 0,\n",
    " 'Mindfulness of Breathing': 0,\n",
    " 'Doing Nothing': 0}\n",
    "\n",
    "numSits = len(x_train)\n",
    "longSits = x_train.loc[meditations['+20min'] == True]\n",
    "shortSits = x_train.loc[meditations['+20min'] != True]\n",
    "\n",
    "num_longSits = len(longSits)\n",
    "num_shortSits = numSits - len(longSits)\n",
    "\n",
    "# Probabitlities\n",
    "\n",
    "prior_long = num_longSits / numSits\n",
    "prior_short = num_shortSits / numSits"
   ]
  },
  {
   "cell_type": "code",
   "execution_count": 27,
   "id": "15373482",
   "metadata": {
    "scrolled": false
   },
   "outputs": [
    {
     "data": {
      "text/plain": [
       "{'Metta': 1,\n",
       " 'Mindfulness of Fingers Touching': 0,\n",
       " 'Body / Grounding Awareness': 1,\n",
       " 'Stillness': 0,\n",
       " 'Contemplation': 0,\n",
       " 'Mindfulness of Breathing': 0,\n",
       " 'Doing Nothing': 0}"
      ]
     },
     "execution_count": 27,
     "metadata": {},
     "output_type": "execute_result"
    }
   ],
   "source": [
    "sample"
   ]
  },
  {
   "cell_type": "code",
   "execution_count": 28,
   "id": "11d0aa7b",
   "metadata": {},
   "outputs": [
    {
     "data": {
      "text/plain": [
       "15"
      ]
     },
     "execution_count": 28,
     "metadata": {},
     "output_type": "execute_result"
    }
   ],
   "source": [
    "len(longSits.loc[longSits['Metta'] == 1])\n",
    "num_longSits"
   ]
  },
  {
   "cell_type": "markdown",
   "id": "97e1e62e",
   "metadata": {},
   "source": [
    "Now I want to get all the likelihoods for this single instance 'sample'"
   ]
  },
  {
   "cell_type": "code",
   "execution_count": 29,
   "id": "9f73cb91",
   "metadata": {},
   "outputs": [
    {
     "ename": "NameError",
     "evalue": "name 'sample_meds' is not defined",
     "output_type": "error",
     "traceback": [
      "\u001b[0;31m---------------------------------------------------------------------------\u001b[0m",
      "\u001b[0;31mNameError\u001b[0m                                 Traceback (most recent call last)",
      "Input \u001b[0;32mIn [29]\u001b[0m, in \u001b[0;36m<cell line: 6>\u001b[0;34m()\u001b[0m\n\u001b[1;32m      1\u001b[0m \u001b[38;5;66;03m# for each p in sample_meds:\u001b[39;00m\n\u001b[1;32m      2\u001b[0m \u001b[38;5;66;03m#    compute likelihood\u001b[39;00m\n\u001b[1;32m      3\u001b[0m \u001b[38;5;66;03m#    include likelihood in samplesample_meds\u001b[39;00m\n\u001b[1;32m      4\u001b[0m \n\u001b[1;32m      5\u001b[0m \u001b[38;5;66;03m#for p in sample_meds:\u001b[39;00m\n\u001b[0;32m----> 6\u001b[0m \u001b[43msample_meds\u001b[49m\n",
      "\u001b[0;31mNameError\u001b[0m: name 'sample_meds' is not defined"
     ]
    }
   ],
   "source": [
    "\n",
    "# for each p in sample_meds:\n",
    "#    compute likelihood\n",
    "#    include likelihood in samplesample_meds\n",
    "\n",
    "#for p in sample_meds:\n",
    "sample_meds\n",
    "    # compue likelihood\n",
    "    "
   ]
  },
  {
   "cell_type": "code",
   "execution_count": null,
   "id": "ccd407b5",
   "metadata": {},
   "outputs": [],
   "source": [
    "sample_meds = [key for (key, value) in sample.items() if value == 1]\n",
    "\n",
    "\n",
    "# P(True) * P(Metta | True) * P(GA | True)\n",
    "p1 = prior_long\n",
    "for p in sample_meds:\n",
    "    p1 *= (len(longSits.loc[longSits[p] == 1]) / num_longSits)\n",
    "print(p1)\n",
    "# P(False) * P(Metta | False) * P(GA | False)\n",
    "p2 = prior_short\n",
    "for p in sample_meds:\n",
    "    p2 *= (len(shortSits.loc[shortSits[p] == 1]) / num_shortSits)\n",
    "print(p2)"
   ]
  },
  {
   "cell_type": "markdown",
   "id": "2865b24e",
   "metadata": {},
   "source": [
    "Now, compare the 2 probabitlities and classify!"
   ]
  },
  {
   "cell_type": "code",
   "execution_count": 30,
   "id": "0105cdfe",
   "metadata": {},
   "outputs": [
    {
     "ename": "NameError",
     "evalue": "name 'p1' is not defined",
     "output_type": "error",
     "traceback": [
      "\u001b[0;31m---------------------------------------------------------------------------\u001b[0m",
      "\u001b[0;31mNameError\u001b[0m                                 Traceback (most recent call last)",
      "Input \u001b[0;32mIn [30]\u001b[0m, in \u001b[0;36m<cell line: 1>\u001b[0;34m()\u001b[0m\n\u001b[0;32m----> 1\u001b[0m sample[\u001b[38;5;124m'\u001b[39m\u001b[38;5;124m+20min\u001b[39m\u001b[38;5;124m'\u001b[39m] \u001b[38;5;241m=\u001b[39m \u001b[38;5;28;01mTrue\u001b[39;00m \u001b[38;5;28;01mif\u001b[39;00m \u001b[43mp1\u001b[49m \u001b[38;5;241m>\u001b[39m\u001b[38;5;241m=\u001b[39m p2 \u001b[38;5;28;01melse\u001b[39;00m \u001b[38;5;28;01mFalse\u001b[39;00m\n",
      "\u001b[0;31mNameError\u001b[0m: name 'p1' is not defined"
     ]
    }
   ],
   "source": [
    "sample['+20min'] = True if p1 >= p2 else False"
   ]
  },
  {
   "cell_type": "code",
   "execution_count": 31,
   "id": "a310b811",
   "metadata": {},
   "outputs": [
    {
     "data": {
      "text/html": [
       "<div>\n",
       "<style scoped>\n",
       "    .dataframe tbody tr th:only-of-type {\n",
       "        vertical-align: middle;\n",
       "    }\n",
       "\n",
       "    .dataframe tbody tr th {\n",
       "        vertical-align: top;\n",
       "    }\n",
       "\n",
       "    .dataframe thead th {\n",
       "        text-align: right;\n",
       "    }\n",
       "</style>\n",
       "<table border=\"1\" class=\"dataframe\">\n",
       "  <thead>\n",
       "    <tr style=\"text-align: right;\">\n",
       "      <th></th>\n",
       "      <th>Mindfulness of Breathing</th>\n",
       "      <th>Contemplation</th>\n",
       "      <th>Doing Nothing</th>\n",
       "      <th>Mindfulness of Fingers Touching</th>\n",
       "      <th>Stillness</th>\n",
       "      <th>Body / Grounding Awareness</th>\n",
       "      <th>Metta</th>\n",
       "      <th>+20min</th>\n",
       "    </tr>\n",
       "  </thead>\n",
       "  <tbody>\n",
       "    <tr>\n",
       "      <th>21</th>\n",
       "      <td>0</td>\n",
       "      <td>1</td>\n",
       "      <td>0</td>\n",
       "      <td>0</td>\n",
       "      <td>0</td>\n",
       "      <td>0</td>\n",
       "      <td>0</td>\n",
       "      <td>True</td>\n",
       "    </tr>\n",
       "    <tr>\n",
       "      <th>22</th>\n",
       "      <td>0</td>\n",
       "      <td>1</td>\n",
       "      <td>0</td>\n",
       "      <td>0</td>\n",
       "      <td>0</td>\n",
       "      <td>0</td>\n",
       "      <td>0</td>\n",
       "      <td>True</td>\n",
       "    </tr>\n",
       "  </tbody>\n",
       "</table>\n",
       "</div>"
      ],
      "text/plain": [
       "    Mindfulness of Breathing  Contemplation  Doing Nothing  \\\n",
       "21                         0              1              0   \n",
       "22                         0              1              0   \n",
       "\n",
       "    Mindfulness of Fingers Touching  Stillness  Body / Grounding Awareness  \\\n",
       "21                                0          0                           0   \n",
       "22                                0          0                           0   \n",
       "\n",
       "    Metta  +20min  \n",
       "21      0    True  \n",
       "22      0    True  "
      ]
     },
     "execution_count": 31,
     "metadata": {},
     "output_type": "execute_result"
    }
   ],
   "source": [
    "meditations.tail(2)"
   ]
  },
  {
   "cell_type": "code",
   "execution_count": 32,
   "id": "f46a2b48",
   "metadata": {
    "scrolled": true
   },
   "outputs": [
    {
     "name": "stderr",
     "output_type": "stream",
     "text": [
      "/var/folders/t4/3510z2w16w52w16nl154mg440000gn/T/ipykernel_98914/1258942410.py:1: FutureWarning: The frame.append method is deprecated and will be removed from pandas in a future version. Use pandas.concat instead.\n",
      "  meditations = meditations.append(sample, ignore_index=True)\n"
     ]
    },
    {
     "data": {
      "text/html": [
       "<div>\n",
       "<style scoped>\n",
       "    .dataframe tbody tr th:only-of-type {\n",
       "        vertical-align: middle;\n",
       "    }\n",
       "\n",
       "    .dataframe tbody tr th {\n",
       "        vertical-align: top;\n",
       "    }\n",
       "\n",
       "    .dataframe thead th {\n",
       "        text-align: right;\n",
       "    }\n",
       "</style>\n",
       "<table border=\"1\" class=\"dataframe\">\n",
       "  <thead>\n",
       "    <tr style=\"text-align: right;\">\n",
       "      <th></th>\n",
       "      <th>Mindfulness of Breathing</th>\n",
       "      <th>Contemplation</th>\n",
       "      <th>Doing Nothing</th>\n",
       "      <th>Mindfulness of Fingers Touching</th>\n",
       "      <th>Stillness</th>\n",
       "      <th>Body / Grounding Awareness</th>\n",
       "      <th>Metta</th>\n",
       "      <th>+20min</th>\n",
       "    </tr>\n",
       "  </thead>\n",
       "  <tbody>\n",
       "    <tr>\n",
       "      <th>21</th>\n",
       "      <td>0</td>\n",
       "      <td>1</td>\n",
       "      <td>0</td>\n",
       "      <td>0</td>\n",
       "      <td>0</td>\n",
       "      <td>0</td>\n",
       "      <td>0</td>\n",
       "      <td>True</td>\n",
       "    </tr>\n",
       "    <tr>\n",
       "      <th>22</th>\n",
       "      <td>0</td>\n",
       "      <td>1</td>\n",
       "      <td>0</td>\n",
       "      <td>0</td>\n",
       "      <td>0</td>\n",
       "      <td>0</td>\n",
       "      <td>0</td>\n",
       "      <td>True</td>\n",
       "    </tr>\n",
       "    <tr>\n",
       "      <th>23</th>\n",
       "      <td>0</td>\n",
       "      <td>0</td>\n",
       "      <td>0</td>\n",
       "      <td>0</td>\n",
       "      <td>0</td>\n",
       "      <td>1</td>\n",
       "      <td>1</td>\n",
       "      <td>NaN</td>\n",
       "    </tr>\n",
       "  </tbody>\n",
       "</table>\n",
       "</div>"
      ],
      "text/plain": [
       "    Mindfulness of Breathing  Contemplation  Doing Nothing  \\\n",
       "21                         0              1              0   \n",
       "22                         0              1              0   \n",
       "23                         0              0              0   \n",
       "\n",
       "    Mindfulness of Fingers Touching  Stillness  Body / Grounding Awareness  \\\n",
       "21                                0          0                           0   \n",
       "22                                0          0                           0   \n",
       "23                                0          0                           1   \n",
       "\n",
       "    Metta +20min  \n",
       "21      0   True  \n",
       "22      0   True  \n",
       "23      1    NaN  "
      ]
     },
     "execution_count": 32,
     "metadata": {},
     "output_type": "execute_result"
    }
   ],
   "source": [
    "meditations = meditations.append(sample, ignore_index=True)\n",
    "meditations.tail(3)"
   ]
  },
  {
   "cell_type": "markdown",
   "id": "77533fd8",
   "metadata": {},
   "source": [
    "# Now that I have successfully classified a single instance using Bayes theorem, I now shall scale up to being able to classify any instance that I pass through, which is easy.\n",
    "\n",
    "# After that, I want to test the accuracy of my new model using the training and testing data.\n",
    "\n",
    "# <font color=green>*how do I evaluate the accuracy manually? In sklearn? What is the visionary output?*</font>"
   ]
  },
  {
   "cell_type": "markdown",
   "id": "4e56ce6a",
   "metadata": {},
   "source": [
    "# Joe's Meditation Classifier App:\n",
    "### \"What type of meditation did you practice today?\" ____ \"You practice +/- 20 minutes during that sit!\""
   ]
  },
  {
   "cell_type": "code",
   "execution_count": 51,
   "id": "9cfd65bc",
   "metadata": {},
   "outputs": [],
   "source": [
    "sit_dict = {'Metta': 0,\n",
    " 'Mindfulness of Fingers Touching': 0,\n",
    " 'Body / Grounding Awareness': 0,\n",
    " 'Stillness': 0,\n",
    " 'Contemplation': 0,\n",
    " 'Mindfulness of Breathing': 0,\n",
    " 'Doing Nothing': 0}\n",
    "meditation_types = [key for (key, value) in start_dict.items()]"
   ]
  },
  {
   "cell_type": "code",
   "execution_count": 54,
   "id": "2d7cd333",
   "metadata": {
    "scrolled": true
   },
   "outputs": [
    {
     "name": "stdout",
     "output_type": "stream",
     "text": [
      "Did you practice Metta? \t[y/n]: y\n",
      "Did you practice Mindfulness of Fingers Touching? \t[y/n]: y\n",
      "Did you practice Body / Grounding Awareness? \t[y/n]: y\n",
      "Did you practice Stillness? \t[y/n]: y\n",
      "Did you practice Contemplation? \t[y/n]: y\n",
      "Did you practice Mindfulness of Breathing? \t[y/n]: y\n",
      "Did you practice Doing Nothing? \t[y/n]: y\n"
     ]
    },
    {
     "data": {
      "text/plain": [
       "{'Metta': 1,\n",
       " 'Mindfulness of Fingers Touching': 1,\n",
       " 'Body / Grounding Awareness': 1,\n",
       " 'Stillness': 1,\n",
       " 'Contemplation': 1,\n",
       " 'Mindfulness of Breathing': 1,\n",
       " 'Doing Nothing': 1}"
      ]
     },
     "execution_count": 54,
     "metadata": {},
     "output_type": "execute_result"
    }
   ],
   "source": [
    "for prac in meditation_types:\n",
    "    ans = input(f\"Did you practice {prac}? \\t[y/n]: \")\n",
    "    if ans == 'y': sit_dict[prac] = 1\n",
    "start_dict"
   ]
  },
  {
   "cell_type": "code",
   "execution_count": 62,
   "id": "d0b62ea6",
   "metadata": {},
   "outputs": [
    {
     "name": "stdout",
     "output_type": "stream",
     "text": [
      "5\n"
     ]
    },
    {
     "data": {
      "text/html": [
       "<div>\n",
       "<style scoped>\n",
       "    .dataframe tbody tr th:only-of-type {\n",
       "        vertical-align: middle;\n",
       "    }\n",
       "\n",
       "    .dataframe tbody tr th {\n",
       "        vertical-align: top;\n",
       "    }\n",
       "\n",
       "    .dataframe thead th {\n",
       "        text-align: right;\n",
       "    }\n",
       "</style>\n",
       "<table border=\"1\" class=\"dataframe\">\n",
       "  <thead>\n",
       "    <tr style=\"text-align: right;\">\n",
       "      <th></th>\n",
       "      <th>Mindfulness of Breathing</th>\n",
       "      <th>Contemplation</th>\n",
       "      <th>Doing Nothing</th>\n",
       "      <th>Mindfulness of Fingers Touching</th>\n",
       "      <th>Stillness</th>\n",
       "      <th>Body / Grounding Awareness</th>\n",
       "      <th>Metta</th>\n",
       "    </tr>\n",
       "  </thead>\n",
       "  <tbody>\n",
       "    <tr>\n",
       "      <th>21</th>\n",
       "      <td>0</td>\n",
       "      <td>1</td>\n",
       "      <td>0</td>\n",
       "      <td>0</td>\n",
       "      <td>0</td>\n",
       "      <td>0</td>\n",
       "      <td>0</td>\n",
       "    </tr>\n",
       "    <tr>\n",
       "      <th>13</th>\n",
       "      <td>0</td>\n",
       "      <td>1</td>\n",
       "      <td>0</td>\n",
       "      <td>0</td>\n",
       "      <td>0</td>\n",
       "      <td>1</td>\n",
       "      <td>0</td>\n",
       "    </tr>\n",
       "    <tr>\n",
       "      <th>2</th>\n",
       "      <td>0</td>\n",
       "      <td>1</td>\n",
       "      <td>0</td>\n",
       "      <td>0</td>\n",
       "      <td>0</td>\n",
       "      <td>0</td>\n",
       "      <td>0</td>\n",
       "    </tr>\n",
       "    <tr>\n",
       "      <th>18</th>\n",
       "      <td>0</td>\n",
       "      <td>1</td>\n",
       "      <td>0</td>\n",
       "      <td>0</td>\n",
       "      <td>0</td>\n",
       "      <td>0</td>\n",
       "      <td>0</td>\n",
       "    </tr>\n",
       "    <tr>\n",
       "      <th>22</th>\n",
       "      <td>0</td>\n",
       "      <td>1</td>\n",
       "      <td>0</td>\n",
       "      <td>0</td>\n",
       "      <td>0</td>\n",
       "      <td>0</td>\n",
       "      <td>0</td>\n",
       "    </tr>\n",
       "  </tbody>\n",
       "</table>\n",
       "</div>"
      ],
      "text/plain": [
       "    Mindfulness of Breathing  Contemplation  Doing Nothing  \\\n",
       "21                         0              1              0   \n",
       "13                         0              1              0   \n",
       "2                          0              1              0   \n",
       "18                         0              1              0   \n",
       "22                         0              1              0   \n",
       "\n",
       "    Mindfulness of Fingers Touching  Stillness  Body / Grounding Awareness  \\\n",
       "21                                0          0                           0   \n",
       "13                                0          0                           1   \n",
       "2                                 0          0                           0   \n",
       "18                                0          0                           0   \n",
       "22                                0          0                           0   \n",
       "\n",
       "    Metta  \n",
       "21      0  \n",
       "13      0  \n",
       "2       0  \n",
       "18      0  \n",
       "22      0  "
      ]
     },
     "execution_count": 62,
     "metadata": {},
     "output_type": "execute_result"
    }
   ],
   "source": [
    "x = longSits.loc[longSits['Contemplation'] == 1]\n",
    "print(len(x))\n",
    "x"
   ]
  },
  {
   "cell_type": "code",
   "execution_count": 64,
   "id": "66af2fe8",
   "metadata": {},
   "outputs": [
    {
     "name": "stdout",
     "output_type": "stream",
     "text": [
      "0.8333333333333334\n",
      "0.11111111111111112\n",
      "0.007407407407407408\n",
      "0.0019753086419753087\n",
      "0.0005267489711934157\n",
      "0.0002106995884773663\n",
      "9.832647462277094e-05\n",
      "1.311019661636946e-05\n",
      "\n",
      "0.16666666666666666\n",
      "0.05555555555555555\n",
      "0.037037037037037035\n",
      "0.037037037037037035\n",
      "0.012345679012345678\n",
      "0.004115226337448559\n",
      "0.001371742112482853\n",
      "0.0004572473708276176\n"
     ]
    }
   ],
   "source": [
    "used_techniques = [key for (key, value) in sit_dict.items() if value == 1]\n",
    "alpha = 1 # for ensuring no 0 value probabilities\n",
    "\n",
    "# P(True) * P(Metta | True) * P(GA | True)\n",
    "p1 = prior_long\n",
    "for p in used_techniques:\n",
    "    print(p1)\n",
    "    p1 *= ((len(longSits.loc[longSits[p] == 1]) + alpha) / num_longSits)\n",
    "print(p1)\n",
    "# P(False) * P(Metta | False) * P(GA | False)\n",
    "print()\n",
    "p2 = prior_short\n",
    "for p in used_techniques:\n",
    "    print(p2)\n",
    "    p2 *= ((len(shortSits.loc[shortSits[p] == 1]) + alpha) / num_shortSits)\n",
    "print(p2)"
   ]
  },
  {
   "cell_type": "code",
   "execution_count": 65,
   "id": "e95e50ce",
   "metadata": {
    "scrolled": true
   },
   "outputs": [
    {
     "data": {
      "text/plain": [
       "(1.311019661636946e-05, 0.0004572473708276176)"
      ]
     },
     "execution_count": 65,
     "metadata": {},
     "output_type": "execute_result"
    }
   ],
   "source": [
    "p1, p2"
   ]
  },
  {
   "cell_type": "code",
   "execution_count": 66,
   "id": "317f2ee3",
   "metadata": {},
   "outputs": [],
   "source": [
    "sit_classification = 'long' if p1 > p2 else 'short'\n",
    "sit_dict['+20min'] = p1 > p2"
   ]
  },
  {
   "cell_type": "code",
   "execution_count": 67,
   "id": "643b8999",
   "metadata": {},
   "outputs": [
    {
     "data": {
      "text/plain": [
       "{'Metta': 1,\n",
       " 'Mindfulness of Fingers Touching': 1,\n",
       " 'Body / Grounding Awareness': 1,\n",
       " 'Stillness': 1,\n",
       " 'Contemplation': 1,\n",
       " 'Mindfulness of Breathing': 1,\n",
       " 'Doing Nothing': 1,\n",
       " '+20min': False}"
      ]
     },
     "execution_count": 67,
     "metadata": {},
     "output_type": "execute_result"
    }
   ],
   "source": [
    "sit_dict"
   ]
  },
  {
   "cell_type": "code",
   "execution_count": 68,
   "id": "c329b686",
   "metadata": {},
   "outputs": [
    {
     "name": "stdout",
     "output_type": "stream",
     "text": [
      "Based on Joe's recently recorded meditation sits, this sit is classified/guessed to be a short sit.\n"
     ]
    }
   ],
   "source": [
    "print(f'Based on Joe\\'s recently recorded meditation sits, this sit is classified/guessed to be a {sit_classification} sit.')"
   ]
  },
  {
   "cell_type": "markdown",
   "id": "7be83356",
   "metadata": {},
   "source": [
    "# App complete! Now we would like to test our model to ensure a good accuracy!\n",
    "\n",
    "### This will either be in sklearn or via a manual derivation for DIRECT learning practice"
   ]
  },
  {
   "cell_type": "markdown",
   "id": "63dfa443",
   "metadata": {},
   "source": [
    "# Other"
   ]
  },
  {
   "cell_type": "code",
   "execution_count": null,
   "id": "b8601868",
   "metadata": {},
   "outputs": [],
   "source": [
    "x = countPracticeTypes(meditations['practice'][0])\n",
    "x\n",
    "df_count = pd.DataFrame(x, index=['i',])\n",
    "#meditations['practice'][:1].apply(countPracticeTypes)"
   ]
  },
  {
   "cell_type": "code",
   "execution_count": null,
   "id": "f4edc2e3",
   "metadata": {},
   "outputs": [],
   "source": []
  }
 ],
 "metadata": {
  "kernelspec": {
   "display_name": "Python 3 (ipykernel)",
   "language": "python",
   "name": "python3"
  },
  "language_info": {
   "codemirror_mode": {
    "name": "ipython",
    "version": 3
   },
   "file_extension": ".py",
   "mimetype": "text/x-python",
   "name": "python",
   "nbconvert_exporter": "python",
   "pygments_lexer": "ipython3",
   "version": "3.10.2"
  }
 },
 "nbformat": 4,
 "nbformat_minor": 5
}
