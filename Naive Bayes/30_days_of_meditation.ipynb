{
 "cells": [
  {
   "cell_type": "markdown",
   "id": "11c86153",
   "metadata": {},
   "source": [
    "# Joe Zoll\n",
    "# 30 Days of Meditation - Naive Bayes Classifier (Multinomial)\n",
    "## Intention: Classify meditation instances as > or < 20 minutes based on the frequency of certain types of meditation (i.e. Mindfulness of breathing, Metta, Body scanning, etc.)"
   ]
  },
  {
   "cell_type": "code",
   "execution_count": 476,
   "id": "d895a3fe",
   "metadata": {},
   "outputs": [],
   "source": [
    "import pandas as pd"
   ]
  },
  {
   "cell_type": "code",
   "execution_count": 477,
   "id": "16ac14c0",
   "metadata": {},
   "outputs": [],
   "source": [
    "df = pd.read_csv('data/meditation-sit-log.csv')\n",
    "meditations = df.copy()"
   ]
  },
  {
   "cell_type": "code",
   "execution_count": 478,
   "id": "f1516971",
   "metadata": {},
   "outputs": [
    {
     "data": {
      "text/html": [
       "<div>\n",
       "<style scoped>\n",
       "    .dataframe tbody tr th:only-of-type {\n",
       "        vertical-align: middle;\n",
       "    }\n",
       "\n",
       "    .dataframe tbody tr th {\n",
       "        vertical-align: top;\n",
       "    }\n",
       "\n",
       "    .dataframe thead th {\n",
       "        text-align: right;\n",
       "    }\n",
       "</style>\n",
       "<table border=\"1\" class=\"dataframe\">\n",
       "  <thead>\n",
       "    <tr style=\"text-align: right;\">\n",
       "      <th></th>\n",
       "      <th>Name</th>\n",
       "      <th>Date &amp; Time ⏰</th>\n",
       "      <th>Tags</th>\n",
       "      <th>Length (Minutes)</th>\n",
       "      <th>Guided</th>\n",
       "    </tr>\n",
       "  </thead>\n",
       "  <tbody>\n",
       "    <tr>\n",
       "      <th>0</th>\n",
       "      <td>Metta Return 1/7</td>\n",
       "      <td>October 4, 2022 11:02 AM</td>\n",
       "      <td>Body / Grounding Awareness, Metta</td>\n",
       "      <td>40.0</td>\n",
       "      <td>NaN</td>\n",
       "    </tr>\n",
       "    <tr>\n",
       "      <th>1</th>\n",
       "      <td>Quick in car</td>\n",
       "      <td>October 3, 2022 12:13 PM</td>\n",
       "      <td>Body / Grounding Awareness, Mindfulness of Bre...</td>\n",
       "      <td>5.0</td>\n",
       "      <td>NaN</td>\n",
       "    </tr>\n",
       "    <tr>\n",
       "      <th>2</th>\n",
       "      <td>What do I need to change for this semester?</td>\n",
       "      <td>October 2, 2022 9:47 PM</td>\n",
       "      <td>Contemplation</td>\n",
       "      <td>30.0</td>\n",
       "      <td>NaN</td>\n",
       "    </tr>\n",
       "    <tr>\n",
       "      <th>3</th>\n",
       "      <td>Cloudy</td>\n",
       "      <td>October 2, 2022 3:44 PM</td>\n",
       "      <td>NaN</td>\n",
       "      <td>11.0</td>\n",
       "      <td>NaN</td>\n",
       "    </tr>\n",
       "    <tr>\n",
       "      <th>4</th>\n",
       "      <td>Calm cleaning</td>\n",
       "      <td>October 1, 2022 2:17 PM</td>\n",
       "      <td>Body / Grounding Awareness</td>\n",
       "      <td>17.0</td>\n",
       "      <td>NaN</td>\n",
       "    </tr>\n",
       "    <tr>\n",
       "      <th>...</th>\n",
       "      <td>...</td>\n",
       "      <td>...</td>\n",
       "      <td>...</td>\n",
       "      <td>...</td>\n",
       "      <td>...</td>\n",
       "    </tr>\n",
       "    <tr>\n",
       "      <th>115</th>\n",
       "      <td>First SP Metta Session | Opening up... somewhe...</td>\n",
       "      <td>July 8, 2021 2:32 PM</td>\n",
       "      <td>MIDL 03/52, MIDL Metta Loved One</td>\n",
       "      <td>47.0</td>\n",
       "      <td>NaN</td>\n",
       "    </tr>\n",
       "    <tr>\n",
       "      <th>116</th>\n",
       "      <td>Sitting With Pain</td>\n",
       "      <td>July 7, 2021 3:58 PM</td>\n",
       "      <td>Doing Nothing, Stillness</td>\n",
       "      <td>51.0</td>\n",
       "      <td>NaN</td>\n",
       "    </tr>\n",
       "    <tr>\n",
       "      <th>117</th>\n",
       "      <td>More Courageous Meditation. Not mine</td>\n",
       "      <td>July 1, 2021 3:34 PM</td>\n",
       "      <td>MIDL 03/52, MIDL Forgiveness</td>\n",
       "      <td>45.0</td>\n",
       "      <td>NaN</td>\n",
       "    </tr>\n",
       "    <tr>\n",
       "      <th>118</th>\n",
       "      <td>The Bravest Meditation Of My Life</td>\n",
       "      <td>June 29, 2021 3:04 PM</td>\n",
       "      <td>MIDL 03/52, MIDL Forgiveness</td>\n",
       "      <td>65.0</td>\n",
       "      <td>NaN</td>\n",
       "    </tr>\n",
       "    <tr>\n",
       "      <th>119</th>\n",
       "      <td>Short retraining and MIDL forgiveness</td>\n",
       "      <td>June 29, 2021 3:02 PM</td>\n",
       "      <td>MIDL 03/52</td>\n",
       "      <td>42.0</td>\n",
       "      <td>NaN</td>\n",
       "    </tr>\n",
       "  </tbody>\n",
       "</table>\n",
       "<p>120 rows × 5 columns</p>\n",
       "</div>"
      ],
      "text/plain": [
       "                                                  Name  \\\n",
       "0                                     Metta Return 1/7   \n",
       "1                                         Quick in car   \n",
       "2          What do I need to change for this semester?   \n",
       "3                                               Cloudy   \n",
       "4                                        Calm cleaning   \n",
       "..                                                 ...   \n",
       "115  First SP Metta Session | Opening up... somewhe...   \n",
       "116                                  Sitting With Pain   \n",
       "117               More Courageous Meditation. Not mine   \n",
       "118                  The Bravest Meditation Of My Life   \n",
       "119              Short retraining and MIDL forgiveness   \n",
       "\n",
       "                Date & Time ⏰  \\\n",
       "0    October 4, 2022 11:02 AM   \n",
       "1    October 3, 2022 12:13 PM   \n",
       "2     October 2, 2022 9:47 PM   \n",
       "3     October 2, 2022 3:44 PM   \n",
       "4     October 1, 2022 2:17 PM   \n",
       "..                        ...   \n",
       "115      July 8, 2021 2:32 PM   \n",
       "116      July 7, 2021 3:58 PM   \n",
       "117      July 1, 2021 3:34 PM   \n",
       "118     June 29, 2021 3:04 PM   \n",
       "119     June 29, 2021 3:02 PM   \n",
       "\n",
       "                                                  Tags  Length (Minutes)  \\\n",
       "0                    Body / Grounding Awareness, Metta              40.0   \n",
       "1    Body / Grounding Awareness, Mindfulness of Bre...               5.0   \n",
       "2                                        Contemplation              30.0   \n",
       "3                                                  NaN              11.0   \n",
       "4                           Body / Grounding Awareness              17.0   \n",
       "..                                                 ...               ...   \n",
       "115                   MIDL 03/52, MIDL Metta Loved One              47.0   \n",
       "116                           Doing Nothing, Stillness              51.0   \n",
       "117                       MIDL 03/52, MIDL Forgiveness              45.0   \n",
       "118                       MIDL 03/52, MIDL Forgiveness              65.0   \n",
       "119                                         MIDL 03/52              42.0   \n",
       "\n",
       "    Guided  \n",
       "0      NaN  \n",
       "1      NaN  \n",
       "2      NaN  \n",
       "3      NaN  \n",
       "4      NaN  \n",
       "..     ...  \n",
       "115    NaN  \n",
       "116    NaN  \n",
       "117    NaN  \n",
       "118    NaN  \n",
       "119    NaN  \n",
       "\n",
       "[120 rows x 5 columns]"
      ]
     },
     "execution_count": 478,
     "metadata": {},
     "output_type": "execute_result"
    }
   ],
   "source": [
    "df"
   ]
  },
  {
   "cell_type": "markdown",
   "id": "620931f5",
   "metadata": {},
   "source": [
    "# Data Cleaning\n",
    "- Only take meditation sits from September 6, 2022 => October 6, 2022\n",
    "- remove Date & Time\n",
    "- remove Name\n",
    "- remove Guided\n",
    "\n",
    "- Rename Length (Minutes) => >20 minutes and set values to boolean\n",
    "- Rename Tags => Practice\n",
    "- fill nan values"
   ]
  },
  {
   "cell_type": "code",
   "execution_count": 479,
   "id": "015598c8",
   "metadata": {},
   "outputs": [],
   "source": [
    "meditations = meditations.loc[:22]"
   ]
  },
  {
   "cell_type": "code",
   "execution_count": 480,
   "id": "17929b44",
   "metadata": {},
   "outputs": [],
   "source": [
    "meditations = meditations.drop(['Name', 'Date & Time ⏰', 'Guided'], axis=1)"
   ]
  },
  {
   "cell_type": "code",
   "execution_count": 481,
   "id": "563fc168",
   "metadata": {
    "scrolled": true
   },
   "outputs": [],
   "source": [
    "meditations = meditations.rename(columns={'Length (Minutes)': '+20min'})"
   ]
  },
  {
   "cell_type": "code",
   "execution_count": 482,
   "id": "a40f0ab4",
   "metadata": {},
   "outputs": [],
   "source": [
    "meditations = meditations.rename(columns={'Tags': 'practice'})"
   ]
  },
  {
   "cell_type": "code",
   "execution_count": 483,
   "id": "f135d938",
   "metadata": {},
   "outputs": [],
   "source": [
    "meditations['+20min'] = meditations['+20min'] >= 20"
   ]
  },
  {
   "cell_type": "code",
   "execution_count": 484,
   "id": "fc5bcca7",
   "metadata": {
    "scrolled": true
   },
   "outputs": [
    {
     "data": {
      "text/html": [
       "<div>\n",
       "<style scoped>\n",
       "    .dataframe tbody tr th:only-of-type {\n",
       "        vertical-align: middle;\n",
       "    }\n",
       "\n",
       "    .dataframe tbody tr th {\n",
       "        vertical-align: top;\n",
       "    }\n",
       "\n",
       "    .dataframe thead th {\n",
       "        text-align: right;\n",
       "    }\n",
       "</style>\n",
       "<table border=\"1\" class=\"dataframe\">\n",
       "  <thead>\n",
       "    <tr style=\"text-align: right;\">\n",
       "      <th></th>\n",
       "      <th>practice</th>\n",
       "      <th>+20min</th>\n",
       "    </tr>\n",
       "  </thead>\n",
       "  <tbody>\n",
       "    <tr>\n",
       "      <th>0</th>\n",
       "      <td>Body / Grounding Awareness, Metta</td>\n",
       "      <td>True</td>\n",
       "    </tr>\n",
       "    <tr>\n",
       "      <th>1</th>\n",
       "      <td>Body / Grounding Awareness, Mindfulness of Bre...</td>\n",
       "      <td>False</td>\n",
       "    </tr>\n",
       "    <tr>\n",
       "      <th>2</th>\n",
       "      <td>Contemplation</td>\n",
       "      <td>True</td>\n",
       "    </tr>\n",
       "  </tbody>\n",
       "</table>\n",
       "</div>"
      ],
      "text/plain": [
       "                                            practice  +20min\n",
       "0                  Body / Grounding Awareness, Metta    True\n",
       "1  Body / Grounding Awareness, Mindfulness of Bre...   False\n",
       "2                                      Contemplation    True"
      ]
     },
     "execution_count": 484,
     "metadata": {},
     "output_type": "execute_result"
    }
   ],
   "source": [
    "meditations.head(3)"
   ]
  },
  {
   "cell_type": "markdown",
   "id": "4996a923",
   "metadata": {},
   "source": [
    "practice => dict of counts for all 6 meditation practices => mapped to columns in meditations df"
   ]
  },
  {
   "cell_type": "code",
   "execution_count": 485,
   "id": "378597b1",
   "metadata": {},
   "outputs": [],
   "source": [
    "def countPracticeTypes(practiceStr, count = defaultCount):\n",
    "    currPractices = practiceStr.split(',')\n",
    "    for practice in currPractices:\n",
    "        if practice in count:\n",
    "            count[practice] += 1\n",
    "        else:\n",
    "            count[practice] = 1\n",
    "    return count"
   ]
  },
  {
   "cell_type": "code",
   "execution_count": 486,
   "id": "3e14bb1b",
   "metadata": {},
   "outputs": [],
   "source": [
    "def cleanPracticeStr(practiceStr):\n",
    "    return practiceStr.split(',')[0]"
   ]
  },
  {
   "cell_type": "code",
   "execution_count": 487,
   "id": "85be604f",
   "metadata": {},
   "outputs": [],
   "source": [
    "meditations['practice'] = meditations['practice'].fillna(value='Body / Grounding Awareness')"
   ]
  },
  {
   "cell_type": "markdown",
   "id": "7245895d",
   "metadata": {},
   "source": [
    "# Frequencies => Features\n",
    "- Replace all null values in practice\n",
    "- Clean practice string values (limit to 1 type of practice per instance)\n",
    "- For each practice, count the frequencies of each time it appears in the dataset and make it's count into its own column"
   ]
  },
  {
   "cell_type": "code",
   "execution_count": 490,
   "id": "585cf090",
   "metadata": {
    "scrolled": true
   },
   "outputs": [
    {
     "data": {
      "text/plain": [
       "{'Body / Grounding Awareness',\n",
       " 'Contemplation',\n",
       " 'Doing Nothing',\n",
       " 'Metta',\n",
       " 'Mindfulness of Breathing',\n",
       " 'Mindfulness of Fingers Touching',\n",
       " 'Stillness'}"
      ]
     },
     "execution_count": 490,
     "metadata": {},
     "output_type": "execute_result"
    }
   ],
   "source": [
    "practices = set(meditations['practice'].apply(cleanPracticeStr).unique())\n",
    "practices.add('Metta')\n",
    "practices"
   ]
  },
  {
   "cell_type": "code",
   "execution_count": 492,
   "id": "8d4cfcd5",
   "metadata": {
    "scrolled": true
   },
   "outputs": [
    {
     "data": {
      "text/html": [
       "<div>\n",
       "<style scoped>\n",
       "    .dataframe tbody tr th:only-of-type {\n",
       "        vertical-align: middle;\n",
       "    }\n",
       "\n",
       "    .dataframe tbody tr th {\n",
       "        vertical-align: top;\n",
       "    }\n",
       "\n",
       "    .dataframe thead th {\n",
       "        text-align: right;\n",
       "    }\n",
       "</style>\n",
       "<table border=\"1\" class=\"dataframe\">\n",
       "  <thead>\n",
       "    <tr style=\"text-align: right;\">\n",
       "      <th></th>\n",
       "      <th>practice</th>\n",
       "      <th>+20min</th>\n",
       "      <th>Metta</th>\n",
       "      <th>Body / Grounding Awareness</th>\n",
       "      <th>Mindfulness of Fingers Touching</th>\n",
       "      <th>Doing Nothing</th>\n",
       "      <th>Mindfulness of Breathing</th>\n",
       "      <th>Contemplation</th>\n",
       "      <th>Stillness</th>\n",
       "    </tr>\n",
       "  </thead>\n",
       "  <tbody>\n",
       "    <tr>\n",
       "      <th>0</th>\n",
       "      <td>Body / Grounding Awareness, Metta</td>\n",
       "      <td>True</td>\n",
       "      <td>0</td>\n",
       "      <td>0</td>\n",
       "      <td>0</td>\n",
       "      <td>0</td>\n",
       "      <td>0</td>\n",
       "      <td>0</td>\n",
       "      <td>0</td>\n",
       "    </tr>\n",
       "  </tbody>\n",
       "</table>\n",
       "</div>"
      ],
      "text/plain": [
       "                            practice  +20min  Metta  \\\n",
       "0  Body / Grounding Awareness, Metta    True      0   \n",
       "\n",
       "   Body / Grounding Awareness  Mindfulness of Fingers Touching  Doing Nothing  \\\n",
       "0                           0                                0              0   \n",
       "\n",
       "   Mindfulness of Breathing  Contemplation  Stillness  \n",
       "0                         0              0          0  "
      ]
     },
     "execution_count": 492,
     "metadata": {},
     "output_type": "execute_result"
    }
   ],
   "source": [
    "# I want to add new columns to the DF, all with a value == 0\n",
    "meditations[list(practices)] = 0\n",
    "meditations.head(1)"
   ]
  },
  {
   "cell_type": "code",
   "execution_count": 493,
   "id": "98787b74",
   "metadata": {},
   "outputs": [
    {
     "name": "stderr",
     "output_type": "stream",
     "text": [
      "/var/folders/t4/3510z2w16w52w16nl154mg440000gn/T/ipykernel_57752/2736716018.py:11: SettingWithCopyWarning: \n",
      "A value is trying to be set on a copy of a slice from a DataFrame\n",
      "\n",
      "See the caveats in the documentation: https://pandas.pydata.org/pandas-docs/stable/user_guide/indexing.html#returning-a-view-versus-a-copy\n",
      "  meditations[p][index] += 1\n"
     ]
    }
   ],
   "source": [
    "# for each row\n",
    "#    split practiceStr\n",
    "#    for each str in split:\n",
    "#        increment corresponding column\n",
    "for index, row in meditations.iterrows():\n",
    "    practiceStr = row['practice']\n",
    "    currPractices = practiceStr.split(',')\n",
    "    for p in currPractices:\n",
    "        p = p.strip()\n",
    "        if p in practices:\n",
    "            meditations[p][index] += 1"
   ]
  },
  {
   "cell_type": "code",
   "execution_count": 494,
   "id": "4e33c9f3",
   "metadata": {},
   "outputs": [],
   "source": [
    "meditations.insert(len(meditations.columns)-1, '+20min', meditations.pop('+20min'))"
   ]
  },
  {
   "cell_type": "code",
   "execution_count": 495,
   "id": "5decc380",
   "metadata": {
    "scrolled": false
   },
   "outputs": [
    {
     "data": {
      "text/html": [
       "<div>\n",
       "<style scoped>\n",
       "    .dataframe tbody tr th:only-of-type {\n",
       "        vertical-align: middle;\n",
       "    }\n",
       "\n",
       "    .dataframe tbody tr th {\n",
       "        vertical-align: top;\n",
       "    }\n",
       "\n",
       "    .dataframe thead th {\n",
       "        text-align: right;\n",
       "    }\n",
       "</style>\n",
       "<table border=\"1\" class=\"dataframe\">\n",
       "  <thead>\n",
       "    <tr style=\"text-align: right;\">\n",
       "      <th></th>\n",
       "      <th>practice</th>\n",
       "      <th>Metta</th>\n",
       "      <th>Body / Grounding Awareness</th>\n",
       "      <th>Mindfulness of Fingers Touching</th>\n",
       "      <th>Doing Nothing</th>\n",
       "      <th>Mindfulness of Breathing</th>\n",
       "      <th>Contemplation</th>\n",
       "      <th>Stillness</th>\n",
       "      <th>+20min</th>\n",
       "    </tr>\n",
       "  </thead>\n",
       "  <tbody>\n",
       "    <tr>\n",
       "      <th>0</th>\n",
       "      <td>Body / Grounding Awareness, Metta</td>\n",
       "      <td>1</td>\n",
       "      <td>1</td>\n",
       "      <td>0</td>\n",
       "      <td>0</td>\n",
       "      <td>0</td>\n",
       "      <td>0</td>\n",
       "      <td>0</td>\n",
       "      <td>True</td>\n",
       "    </tr>\n",
       "    <tr>\n",
       "      <th>1</th>\n",
       "      <td>Body / Grounding Awareness, Mindfulness of Bre...</td>\n",
       "      <td>0</td>\n",
       "      <td>1</td>\n",
       "      <td>0</td>\n",
       "      <td>0</td>\n",
       "      <td>1</td>\n",
       "      <td>0</td>\n",
       "      <td>0</td>\n",
       "      <td>False</td>\n",
       "    </tr>\n",
       "    <tr>\n",
       "      <th>2</th>\n",
       "      <td>Contemplation</td>\n",
       "      <td>0</td>\n",
       "      <td>0</td>\n",
       "      <td>0</td>\n",
       "      <td>0</td>\n",
       "      <td>0</td>\n",
       "      <td>1</td>\n",
       "      <td>0</td>\n",
       "      <td>True</td>\n",
       "    </tr>\n",
       "    <tr>\n",
       "      <th>3</th>\n",
       "      <td>Body / Grounding Awareness</td>\n",
       "      <td>0</td>\n",
       "      <td>1</td>\n",
       "      <td>0</td>\n",
       "      <td>0</td>\n",
       "      <td>0</td>\n",
       "      <td>0</td>\n",
       "      <td>0</td>\n",
       "      <td>False</td>\n",
       "    </tr>\n",
       "    <tr>\n",
       "      <th>4</th>\n",
       "      <td>Body / Grounding Awareness</td>\n",
       "      <td>0</td>\n",
       "      <td>1</td>\n",
       "      <td>0</td>\n",
       "      <td>0</td>\n",
       "      <td>0</td>\n",
       "      <td>0</td>\n",
       "      <td>0</td>\n",
       "      <td>False</td>\n",
       "    </tr>\n",
       "    <tr>\n",
       "      <th>5</th>\n",
       "      <td>Body / Grounding Awareness</td>\n",
       "      <td>0</td>\n",
       "      <td>1</td>\n",
       "      <td>0</td>\n",
       "      <td>0</td>\n",
       "      <td>0</td>\n",
       "      <td>0</td>\n",
       "      <td>0</td>\n",
       "      <td>False</td>\n",
       "    </tr>\n",
       "    <tr>\n",
       "      <th>6</th>\n",
       "      <td>Mindfulness of Breathing</td>\n",
       "      <td>0</td>\n",
       "      <td>0</td>\n",
       "      <td>0</td>\n",
       "      <td>0</td>\n",
       "      <td>1</td>\n",
       "      <td>0</td>\n",
       "      <td>0</td>\n",
       "      <td>True</td>\n",
       "    </tr>\n",
       "  </tbody>\n",
       "</table>\n",
       "</div>"
      ],
      "text/plain": [
       "                                            practice  Metta  \\\n",
       "0                  Body / Grounding Awareness, Metta      1   \n",
       "1  Body / Grounding Awareness, Mindfulness of Bre...      0   \n",
       "2                                      Contemplation      0   \n",
       "3                         Body / Grounding Awareness      0   \n",
       "4                         Body / Grounding Awareness      0   \n",
       "5                         Body / Grounding Awareness      0   \n",
       "6                           Mindfulness of Breathing      0   \n",
       "\n",
       "   Body / Grounding Awareness  Mindfulness of Fingers Touching  Doing Nothing  \\\n",
       "0                           1                                0              0   \n",
       "1                           1                                0              0   \n",
       "2                           0                                0              0   \n",
       "3                           1                                0              0   \n",
       "4                           1                                0              0   \n",
       "5                           1                                0              0   \n",
       "6                           0                                0              0   \n",
       "\n",
       "   Mindfulness of Breathing  Contemplation  Stillness  +20min  \n",
       "0                         0              0          0    True  \n",
       "1                         1              0          0   False  \n",
       "2                         0              1          0    True  \n",
       "3                         0              0          0   False  \n",
       "4                         0              0          0   False  \n",
       "5                         0              0          0   False  \n",
       "6                         1              0          0    True  "
      ]
     },
     "execution_count": 495,
     "metadata": {},
     "output_type": "execute_result"
    }
   ],
   "source": [
    "meditations.head(7)"
   ]
  },
  {
   "cell_type": "markdown",
   "id": "c01f9e4e",
   "metadata": {},
   "source": [
    "# So now that I have the frequency columns for every type of meditation IN every sit I have done for the past 30 days, I now can proceed with the Naive Bayes Classifier, construcuting it, and then inputting some instance to check and see if it worked.\n",
    "\n",
    "# NEXT TIME, we do the math :D\n",
    "\n",
    "### Notes\n",
    "- This is not a great model for NB classifier, as there can never be a sit with a practice type that occurs 2 times\n",
    "- What is the best classifier for when features are True / False?"
   ]
  },
  {
   "cell_type": "markdown",
   "id": "4e56ce6a",
   "metadata": {},
   "source": [
    "# Joe's Meditation Classifier App:\n",
    "### \"What type of meditation did you practice today?\" ____ \"You practice +/- 20 minutes during that sit!\""
   ]
  },
  {
   "cell_type": "code",
   "execution_count": 113,
   "id": "aae0f25e",
   "metadata": {},
   "outputs": [
    {
     "name": "stdout",
     "output_type": "stream",
     "text": [
      "What type of meditation did you practice today?: 3\n"
     ]
    }
   ],
   "source": [
    "practice = input(\"What type of meditation did you practice today?: \")"
   ]
  },
  {
   "cell_type": "markdown",
   "id": "2089310e",
   "metadata": {},
   "source": [
    "plug into classifier and spit out an answer, over or under 20 minutes"
   ]
  },
  {
   "cell_type": "markdown",
   "id": "63dfa443",
   "metadata": {},
   "source": [
    "# Other"
   ]
  },
  {
   "cell_type": "code",
   "execution_count": 410,
   "id": "b8601868",
   "metadata": {},
   "outputs": [
    {
     "data": {
      "text/html": [
       "<div>\n",
       "<style scoped>\n",
       "    .dataframe tbody tr th:only-of-type {\n",
       "        vertical-align: middle;\n",
       "    }\n",
       "\n",
       "    .dataframe tbody tr th {\n",
       "        vertical-align: top;\n",
       "    }\n",
       "\n",
       "    .dataframe thead th {\n",
       "        text-align: right;\n",
       "    }\n",
       "</style>\n",
       "<table border=\"1\" class=\"dataframe\">\n",
       "  <thead>\n",
       "    <tr style=\"text-align: right;\">\n",
       "      <th></th>\n",
       "      <th>Body / Grounding Awareness</th>\n",
       "      <th>Contemplation</th>\n",
       "      <th>Mindfulness of Breathing</th>\n",
       "      <th>Stillness</th>\n",
       "      <th>Doing Nothing</th>\n",
       "      <th>Mindfulness of Fingers Touching</th>\n",
       "      <th>Metta</th>\n",
       "    </tr>\n",
       "  </thead>\n",
       "  <tbody>\n",
       "    <tr>\n",
       "      <th>i</th>\n",
       "      <td>1</td>\n",
       "      <td>0</td>\n",
       "      <td>0</td>\n",
       "      <td>0</td>\n",
       "      <td>0</td>\n",
       "      <td>0</td>\n",
       "      <td>1</td>\n",
       "    </tr>\n",
       "  </tbody>\n",
       "</table>\n",
       "</div>"
      ],
      "text/plain": [
       "   Body / Grounding Awareness  Contemplation  Mindfulness of Breathing  \\\n",
       "i                           1              0                         0   \n",
       "\n",
       "   Stillness  Doing Nothing  Mindfulness of Fingers Touching   Metta  \n",
       "i          0              0                                0       1  "
      ]
     },
     "execution_count": 410,
     "metadata": {},
     "output_type": "execute_result"
    }
   ],
   "source": [
    "x = countPracticeTypes(meditations['practice'][0])\n",
    "x\n",
    "df_count = pd.DataFrame(x, index=['i',])\n",
    "#meditations['practice'][:1].apply(countPracticeTypes)"
   ]
  },
  {
   "cell_type": "code",
   "execution_count": null,
   "id": "f4edc2e3",
   "metadata": {},
   "outputs": [],
   "source": []
  }
 ],
 "metadata": {
  "kernelspec": {
   "display_name": "Python 3 (ipykernel)",
   "language": "python",
   "name": "python3"
  },
  "language_info": {
   "codemirror_mode": {
    "name": "ipython",
    "version": 3
   },
   "file_extension": ".py",
   "mimetype": "text/x-python",
   "name": "python",
   "nbconvert_exporter": "python",
   "pygments_lexer": "ipython3",
   "version": "3.10.2"
  }
 },
 "nbformat": 4,
 "nbformat_minor": 5
}
